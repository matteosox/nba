{
 "cells": [
  {
   "cell_type": "code",
   "execution_count": 1,
   "id": "6bbe230d",
   "metadata": {},
   "outputs": [],
   "source": [
    "from pynba import save_stats_plot, teams_from_file\n",
    "\n",
    "league = \"nba\"\n",
    "year = 2023\n",
    "season_type = \"Regular Season\"\n",
    "\n",
    "team_stats = teams_from_file(league, year, season_type)\n",
    "save_stats_plot(team_stats)"
   ]
  }
 ],
 "metadata": {
  "kernelspec": {
   "display_name": "Python 3 (ipykernel)",
   "language": "python",
   "name": "python3"
  },
  "language_info": {
   "codemirror_mode": {
    "name": "ipython",
    "version": 3
   },
   "file_extension": ".py",
   "mimetype": "text/x-python",
   "name": "python",
   "nbconvert_exporter": "python",
   "pygments_lexer": "ipython3",
   "version": "3.10.6"
  }
 },
 "nbformat": 4,
 "nbformat_minor": 5
}
