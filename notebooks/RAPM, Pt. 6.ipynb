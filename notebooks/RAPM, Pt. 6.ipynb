{
 "cells": [
  {
   "cell_type": "code",
   "execution_count": 1,
   "id": "559c55f1",
   "metadata": {},
   "outputs": [],
   "source": [
    "import numpy as np\n",
    "import pandas as pd\n",
    "\n",
    "from pynba import possessions_from_file\n",
    "from pynba.rapm import TimeDecayedRAPM, _RAPMData"
   ]
  },
  {
   "cell_type": "code",
   "execution_count": 2,
   "id": "04d624e1",
   "metadata": {},
   "outputs": [],
   "source": [
    "half_life = 1.4\n",
    "off_prior = 2.75\n",
    "def_prior = 2.2\n",
    "\n",
    "league_years = {\n",
    "    \"wnba\": range(2009, 2023),\n",
    "    \"nba\": range(2001, 2024),\n",
    "}\n",
    "season_type = \"Regular Season\"\n",
    "\n",
    "for league, years in league_years.items():\n",
    "    possessions = pd.concat([possessions_from_file(league, year, season_type) for year in years])\n",
    "    rapm_data = _RAPMData.from_possessions(possessions)\n",
    "    results = []\n",
    "    dates = np.sort(np.unique(rapm_data.time))\n",
    "    for date in dates:\n",
    "        sub_data = rapm_data[rapm_data.time <= date]\n",
    "        time_decayed_rapm = TimeDecayedRAPM.from_data(sub_data, date, half_life, off_prior, def_prior)\n",
    "        stats = time_decayed_rapm.stats.copy()\n",
    "        stats[\"date\"] = date\n",
    "        stats = stats.loc[stats[\"poss\"] > 0, :]\n",
    "        results.append(stats)\n",
    "    \n",
    "    df = pd.concat(results)\n",
    "    df.to_csv(f\"historical_{league}_rapm.csv\")"
   ]
  }
 ],
 "metadata": {
  "kernelspec": {
   "display_name": "Python 3 (ipykernel)",
   "language": "python",
   "name": "python3"
  },
  "language_info": {
   "codemirror_mode": {
    "name": "ipython",
    "version": 3
   },
   "file_extension": ".py",
   "mimetype": "text/x-python",
   "name": "python",
   "nbconvert_exporter": "python",
   "pygments_lexer": "ipython3",
   "version": "3.9.5"
  }
 },
 "nbformat": 4,
 "nbformat_minor": 5
}
