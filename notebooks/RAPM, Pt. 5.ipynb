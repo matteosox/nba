{
 "cells": [
  {
   "cell_type": "code",
   "execution_count": 1,
   "id": "559c55f1",
   "metadata": {},
   "outputs": [],
   "source": [
    "import pandas as pd\n",
    "\n",
    "from pynba import possessions_from_file\n",
    "from pynba.rapm import TimeDecayedRAPM, optimize\n",
    "\n",
    "\n",
    "league = \"nba\"\n",
    "years = [2001, 2002, 2003, 2004, 2005, 2006, 2007, 2008, 2009, 2010, 2011, 2012, 2013, 2014, 2015, 2016, 2017, 2018, 2019, 2020, 2021, 2022, 2023]\n",
    "season_type = \"Regular Season\"\n",
    "\n",
    "possessions = pd.concat([possessions_from_file(league, year, season_type) for year in years])"
   ]
  },
  {
   "cell_type": "code",
   "execution_count": null,
   "id": "a5b206a9",
   "metadata": {},
   "outputs": [],
   "source": [
    "off_prior_range = (2.4, 3.2)\n",
    "def_prior_range = (2.2, 3)\n",
    "half_life_range = (0.8, 1.4)\n",
    "rounds = 4\n",
    "time_step = 1\n",
    "best_inputs, lowest_score, best_range, history = optimize(possessions, half_life_range, off_prior_range, def_prior_range, rounds, time_step=time_step)"
   ]
  },
  {
   "cell_type": "code",
   "execution_count": null,
   "id": "092ed95c",
   "metadata": {},
   "outputs": [],
   "source": [
    "best_inputs"
   ]
  },
  {
   "cell_type": "code",
   "execution_count": null,
   "id": "9271f5cd",
   "metadata": {},
   "outputs": [],
   "source": [
    "best_range"
   ]
  },
  {
   "cell_type": "code",
   "execution_count": null,
   "id": "501cc7c3",
   "metadata": {
    "scrolled": true
   },
   "outputs": [],
   "source": [
    "history"
   ]
  }
 ],
 "metadata": {
  "kernelspec": {
   "display_name": "Python 3 (ipykernel)",
   "language": "python",
   "name": "python3"
  },
  "language_info": {
   "codemirror_mode": {
    "name": "ipython",
    "version": 3
   },
   "file_extension": ".py",
   "mimetype": "text/x-python",
   "name": "python",
   "nbconvert_exporter": "python",
   "pygments_lexer": "ipython3",
   "version": "3.9.5"
  }
 },
 "nbformat": 4,
 "nbformat_minor": 5
}
